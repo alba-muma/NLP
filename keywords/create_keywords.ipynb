{
 "cells": [
  {
   "cell_type": "code",
   "execution_count": 10,
   "metadata": {},
   "outputs": [],
   "source": [
    "from transformers import pipeline, BertTokenizer, BertModel\n",
    "import pandas as pd\n",
    "import torch\n",
    "import spacy\n",
    "from sklearn.feature_extraction.text import TfidfVectorizer\n",
    "from tqdm import tqdm"
   ]
  },
  {
   "cell_type": "code",
   "execution_count": null,
   "metadata": {},
   "outputs": [
    {
     "name": "stderr",
     "output_type": "stream",
     "text": [
      "100%|██████████| 50000/50000 [16:46<00:00, 49.68it/s] \n",
      "Extracting keywords: 100%|██████████| 50000/50000 [00:35<00:00, 1418.86doc/s]\n"
     ]
    },
    {
     "name": "stdout",
     "output_type": "stream",
     "text": [
      "Palabras clave extraídas y guardadas en: output_with_keywords_spacy.csv\n"
     ]
    },
    {
     "ename": "",
     "evalue": "",
     "output_type": "error",
     "traceback": [
      "\u001b[1;31mThe Kernel crashed while executing code in the current cell or a previous cell. \n",
      "\u001b[1;31mPlease review the code in the cell(s) to identify a possible cause of the failure. \n",
      "\u001b[1;31mClick <a href='https://aka.ms/vscodeJupyterKernelCrash'>here</a> for more info. \n",
      "\u001b[1;31mView Jupyter <a href='command:jupyter.viewOutput'>log</a> for further details."
     ]
    }
   ],
   "source": [
    "tqdm.pandas()\n",
    "\n",
    "file_path = \"output.csv\"  \n",
    "data = pd.read_csv(file_path)\n",
    "\n",
    "nlp = spacy.load(\"en_core_web_sm\")\n",
    "\n",
    "def preprocess_text_spacy(text):\n",
    "    \"\"\"\n",
    "    Preprocesar texto con spaCy para extraer términos relevantes (sustantivos, nombres propios).\n",
    "    \"\"\"\n",
    "    doc = nlp(text)\n",
    "    tokens = [token.text for token in doc if token.is_alpha and token.pos_ in (\"NOUN\", \"PROPN\", \"ADJ\")]\n",
    "    return \" \".join(tokens)\n",
    "\n",
    "data['processed_abstract'] = data['abstract'].progress_apply(preprocess_text_spacy)\n",
    "\n",
    "tfidf = TfidfVectorizer()\n",
    "tfidf_matrix = tfidf.fit_transform(data['processed_abstract'])\n",
    "tfidf_keywords = tfidf.get_feature_names_out()\n",
    "\n",
    "def extract_keywords_per_document(row_idx, tfidf_matrix, feature_names, max_keywords=10):\n",
    "    \"\"\"\n",
    "    Extraer palabras clave más relevantes para cada documento según TF-IDF.\n",
    "    \"\"\"\n",
    "    row_vector = tfidf_matrix[row_idx].toarray().flatten()\n",
    "    sorted_indices = row_vector.argsort()[::-1]  # Indices ordenados por relevancia descendente\n",
    "    keywords = [feature_names[idx] for idx in sorted_indices[:max_keywords]]\n",
    "    return keywords\n",
    "\n",
    "data['keywords'] = [\n",
    "    extract_keywords_per_document(i, tfidf_matrix, tfidf_keywords, max_keywords=10)\n",
    "    for i in tqdm(range(tfidf_matrix.shape[0]), desc=\"Extracting keywords\", unit=\"doc\")\n",
    "]\n",
    "\n",
    "output_path = \"output_with_keywords_spacy.csv\"\n",
    "data.to_csv(output_path, index=False)\n",
    "\n",
    "print(f\"Palabras clave extraídas y guardadas en: {output_path}\")\n"
   ]
  }
 ],
 "metadata": {
  "kernelspec": {
   "display_name": "NLP",
   "language": "python",
   "name": "python3"
  },
  "language_info": {
   "codemirror_mode": {
    "name": "ipython",
    "version": 3
   },
   "file_extension": ".py",
   "mimetype": "text/x-python",
   "name": "python",
   "nbconvert_exporter": "python",
   "pygments_lexer": "ipython3",
   "version": "3.10.16"
  }
 },
 "nbformat": 4,
 "nbformat_minor": 2
}
